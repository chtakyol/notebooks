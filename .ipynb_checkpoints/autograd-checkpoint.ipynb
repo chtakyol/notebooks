{
 "cells": [
  {
   "cell_type": "code",
   "execution_count": 2,
   "id": "813b7afc",
   "metadata": {},
   "outputs": [],
   "source": [
    "import torch, torchvision\n",
    "import numpy as np"
   ]
  },
  {
   "cell_type": "code",
   "execution_count": 3,
   "id": "55f4d05b",
   "metadata": {},
   "outputs": [
    {
     "name": "stderr",
     "output_type": "stream",
     "text": [
      "Downloading: \"https://download.pytorch.org/models/resnet18-f37072fd.pth\" to C:\\Users\\Cihat/.cache\\torch\\hub\\checkpoints\\resnet18-f37072fd.pth\n"
     ]
    },
    {
     "data": {
      "application/vnd.jupyter.widget-view+json": {
       "model_id": "2395092c6629448f9ea1dd8a508f4066",
       "version_major": 2,
       "version_minor": 0
      },
      "text/plain": [
       "  0%|          | 0.00/44.7M [00:00<?, ?B/s]"
      ]
     },
     "metadata": {},
     "output_type": "display_data"
    }
   ],
   "source": [
    "model = torchvision.models.resnet18(pretrained=True)\n",
    "data = torch.rand(1, 3, 64, 64) # dummy data, represents image\n",
    "labels = torch.rand(1, 1000) # represents labels"
   ]
  },
  {
   "cell_type": "code",
   "execution_count": 14,
   "id": "22da690f",
   "metadata": {},
   "outputs": [],
   "source": [
    "prediction = model(data) # forward pass"
   ]
  },
  {
   "cell_type": "code",
   "execution_count": 17,
   "id": "8409193c",
   "metadata": {},
   "outputs": [
    {
     "data": {
      "text/plain": [
       "torch.Size([1, 1000])"
      ]
     },
     "execution_count": 17,
     "metadata": {},
     "output_type": "execute_result"
    }
   ],
   "source": [
    "prediction.shape # weights are on ImageNet so there are 1000 class"
   ]
  },
  {
   "cell_type": "code",
   "execution_count": 16,
   "id": "f4db3084",
   "metadata": {},
   "outputs": [
    {
     "data": {
      "text/plain": [
       "tensor(-489.1749, grad_fn=<SumBackward0>)"
      ]
     },
     "execution_count": 16,
     "metadata": {},
     "output_type": "execute_result"
    }
   ],
   "source": [
    "loss"
   ]
  },
  {
   "cell_type": "code",
   "execution_count": 9,
   "id": "82c85fb8",
   "metadata": {},
   "outputs": [],
   "source": [
    "loss = (prediction - labels).sum()"
   ]
  },
  {
   "cell_type": "code",
   "execution_count": 10,
   "id": "699b658a",
   "metadata": {},
   "outputs": [
    {
     "data": {
      "text/plain": [
       "tensor(-489.1749, grad_fn=<SumBackward0>)"
      ]
     },
     "execution_count": 10,
     "metadata": {},
     "output_type": "execute_result"
    }
   ],
   "source": [
    "loss.backward()\n",
    "loss"
   ]
  },
  {
   "cell_type": "code",
   "execution_count": 11,
   "id": "d25b4cee",
   "metadata": {},
   "outputs": [],
   "source": [
    "optim = torch.optim.SGD(model.parameters(), lr=1e-2, momentum=0.9)"
   ]
  },
  {
   "cell_type": "code",
   "execution_count": 12,
   "id": "8f900b8d",
   "metadata": {},
   "outputs": [],
   "source": [
    "optim.step()"
   ]
  },
  {
   "cell_type": "code",
   "execution_count": 37,
   "id": "694b6fb2",
   "metadata": {},
   "outputs": [],
   "source": [
    "# autograd\n",
    "a = torch.tensor([2., 3.], requires_grad=True)\n",
    "b = torch.tensor([6., 4.], requires_grad=True)"
   ]
  },
  {
   "cell_type": "code",
   "execution_count": 41,
   "id": "038f7b22",
   "metadata": {},
   "outputs": [],
   "source": [
    "Q = 3 * a ** 3 - b**2"
   ]
  },
  {
   "cell_type": "code",
   "execution_count": 48,
   "id": "b462b4ee",
   "metadata": {},
   "outputs": [],
   "source": [
    "external_grad = torch.tensor([1., 1.])\n",
    "Q.backward(gradient=external_grad)"
   ]
  },
  {
   "cell_type": "code",
   "execution_count": 49,
   "id": "4e9568d1",
   "metadata": {},
   "outputs": [
    {
     "data": {
      "text/plain": [
       "tensor([36., 81.])"
      ]
     },
     "execution_count": 49,
     "metadata": {},
     "output_type": "execute_result"
    }
   ],
   "source": [
    "a.grad"
   ]
  },
  {
   "cell_type": "code",
   "execution_count": 56,
   "id": "66990628",
   "metadata": {},
   "outputs": [],
   "source": [
    "# In NN, parameters that don't compute gradients usally called frozen params. Unless you're frozed\n",
    "# the tensors saved gradients occupy memory.\n",
    "\n",
    "# This approach used in fine-tuning in pre-trained network. In fine-tuning we froze most of the model.\n",
    "# Typically only classification layer will calculate in graph. See example below.\n",
    "\n",
    "model = torchvision.models.resnet18(pretrained=True) # pre-trained model\n",
    "\n",
    "# Freeze all the parameters in the network\n",
    "for param in model.parameters():\n",
    "    param.requires_grad = False\n",
    "    \n",
    "# Last layer of resnets is called \"fc\" currently for 1000 class.\n",
    "# (fc): Linear(in_features=512, out_features=1000, bias=True) change this to 10 class\n",
    "\n",
    "model.fc = torch.nn.Linear(in_features=512, out_features=10)\n",
    "\n",
    "# All parameters are frozen except the last layer.\n",
    "\n",
    "# Optimize only the classifier\n",
    "optimizer = torch.optim.SGD(model.parameters(), lr=1e-2, momentum=0.9)\n",
    "\n",
    "# Notice we passed all model parameters since only last layer will be added in computational graph."
   ]
  },
  {
   "cell_type": "code",
   "execution_count": null,
   "id": "a05be644",
   "metadata": {},
   "outputs": [],
   "source": []
  }
 ],
 "metadata": {
  "kernelspec": {
   "display_name": "Python 3 (ipykernel)",
   "language": "python",
   "name": "python3"
  },
  "language_info": {
   "codemirror_mode": {
    "name": "ipython",
    "version": 3
   },
   "file_extension": ".py",
   "mimetype": "text/x-python",
   "name": "python",
   "nbconvert_exporter": "python",
   "pygments_lexer": "ipython3",
   "version": "3.9.5"
  }
 },
 "nbformat": 4,
 "nbformat_minor": 5
}
