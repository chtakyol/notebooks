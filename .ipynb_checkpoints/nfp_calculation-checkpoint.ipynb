{
 "cells": [
  {
   "cell_type": "code",
   "execution_count": 82,
   "id": "f96972cf",
   "metadata": {},
   "outputs": [],
   "source": [
    "from shapely.geometry import Polygon, Point, LineString, MultiPolygon\n",
    "from shapely import wkt\n",
    "import matplotlib.pyplot as plt"
   ]
  },
  {
   "cell_type": "code",
   "execution_count": 84,
   "id": "e22f35dc",
   "metadata": {},
   "outputs": [
    {
     "data": {
      "image/svg+xml": [
       "<svg xmlns=\"http://www.w3.org/2000/svg\" xmlns:xlink=\"http://www.w3.org/1999/xlink\" width=\"100.0\" height=\"100.0\" viewBox=\"-0.08 -0.08 2.16 2.16\" preserveAspectRatio=\"xMinYMin meet\"><g transform=\"matrix(1,0,0,-1,0,2.0)\"><path fill-rule=\"evenodd\" fill=\"#66cc99\" stroke=\"#555555\" stroke-width=\"0.0432\" opacity=\"0.6\" d=\"M 0.0,0.0 L 2.0,0.0 L 2.0,2.0 L 0.0,2.0 L 0.0,0.0 z\" /></g></svg>"
      ],
      "text/plain": [
       "<shapely.geometry.polygon.Polygon at 0x29e39408a60>"
      ]
     },
     "execution_count": 84,
     "metadata": {},
     "output_type": "execute_result"
    }
   ],
   "source": [
    "polygonA  = Polygon([[0, 0], [2, 0], [2, 2], [0, 2]])\n",
    "polygonA"
   ]
  },
  {
   "cell_type": "code",
   "execution_count": 98,
   "id": "e7376326",
   "metadata": {},
   "outputs": [
    {
     "data": {
      "image/svg+xml": [
       "<svg xmlns=\"http://www.w3.org/2000/svg\" xmlns:xlink=\"http://www.w3.org/1999/xlink\" width=\"100.0\" height=\"100.0\" viewBox=\"3.92 3.92 2.16 2.16\" preserveAspectRatio=\"xMinYMin meet\"><g transform=\"matrix(1,0,0,-1,0,10.0)\"><path fill-rule=\"evenodd\" fill=\"#66cc99\" stroke=\"#555555\" stroke-width=\"0.0432\" opacity=\"0.6\" d=\"M 4.0,4.0 L 6.0,4.0 L 6.0,6.0 L 4.0,6.0 L 4.0,4.0 z\" /></g></svg>"
      ],
      "text/plain": [
       "<shapely.geometry.polygon.Polygon at 0x29e3968f310>"
      ]
     },
     "execution_count": 98,
     "metadata": {},
     "output_type": "execute_result"
    }
   ],
   "source": [
    "polygonB = Polygon([[4, 4], [6, 4], [6, 6], [4, 6]])\n",
    "polygonB"
   ]
  },
  {
   "cell_type": "code",
   "execution_count": 80,
   "id": "f4134853",
   "metadata": {},
   "outputs": [
    {
     "data": {
      "text/plain": [
       "2.0"
      ]
     },
     "execution_count": 80,
     "metadata": {},
     "output_type": "execute_result"
    }
   ],
   "source": [
    "polygonB.exterior.xy[0][1]"
   ]
  },
  {
   "cell_type": "code",
   "execution_count": null,
   "id": "c01f99c8",
   "metadata": {},
   "outputs": [],
   "source": [
    "def mikowskiSum(_polygonA, _polygonB):\n",
    "    _polygonA."
   ]
  },
  {
   "cell_type": "code",
   "execution_count": 99,
   "id": "597e9757",
   "metadata": {},
   "outputs": [],
   "source": [
    "polygons = [polygonA, polygonB]"
   ]
  },
  {
   "cell_type": "code",
   "execution_count": 100,
   "id": "ba78833d",
   "metadata": {},
   "outputs": [],
   "source": [
    "def plot(+polygons):\n",
    "    fig, axs = plt.subplots()\n",
    "    plt.xlim(0, 10)\n",
    "    plt.ylim(0, 10)\n",
    "    axs.set_aspect(\"equal\")\n",
    "    \n",
    "    for polygon in _polygons:\n",
    "        xs, ys = polygon.exterior.xy\n",
    "        axs.fill(xs, ys, alpha=0.5, fc=\"r\", ec=\"none\")\n",
    "        \n",
    "    plt.show()"
   ]
  },
  {
   "cell_type": "code",
   "execution_count": 101,
   "id": "145d9ae8",
   "metadata": {},
   "outputs": [
    {
     "data": {
      "image/png": "[encoded data removed]",
      "text/plain": [
       "<Figure size 432x288 with 1 Axes>"
      ]
     },
     "metadata": {
      "needs_background": "light"
     },
     "output_type": "display_data"
    }
   ],
   "source": [
    "plot()"
   ]
  },
  {
   "cell_type": "code",
   "execution_count": 91,
   "id": "f65bb639",
   "metadata": {},
   "outputs": [
    {
     "data": {
      "image/png": "[encoded data removed]",
      "text/plain": [
       "<Figure size 432x288 with 1 Axes>"
      ]
     },
     "metadata": {
      "needs_background": "light"
     },
     "output_type": "display_data"
    }
   ],
   "source": [
    "fig, axs = plt.subplots()\n",
    "\n",
    "plt.xlim(0, 10)\n",
    "plt.ylim(0, 10)\n",
    "axs.set_aspect(\"equal\")\n",
    "xs, ys = polygonA.exterior.xy\n",
    "axs.fill(xs, ys, alpha=0.5, fc=\"r\", ec=\"none\")\n",
    "plt.show()"
   ]
  }
 ],
 "metadata": {
  "kernelspec": {
   "display_name": "Python 3 (ipykernel)",
   "language": "python",
   "name": "python3"
  },
  "language_info": {
   "codemirror_mode": {
    "name": "ipython",
    "version": 3
   },
   "file_extension": ".py",
   "mimetype": "text/x-python",
   "name": "python",
   "nbconvert_exporter": "python",
   "pygments_lexer": "ipython3",
   "version": "3.9.5"
  }
 },
 "nbformat": 4,
 "nbformat_minor": 5
}
