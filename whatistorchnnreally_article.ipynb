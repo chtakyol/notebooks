{
 "cells": [
  {
   "cell_type": "code",
   "execution_count": 2,
   "id": "d1dce4d9",
   "metadata": {},
   "outputs": [],
   "source": [
    "# MNIST dataset\n",
    "from pathlib import Path\n",
    "import requests\n",
    "\n",
    "DATA_PATH = Path(\".datasets\")\n",
    "PATH = DATA_PATH / \"mnist\"\n",
    "\n",
    "PATH.mkdir(parents=True, exist_ok=True)\n",
    "URL = \"https://github.com/pytorch/tutorials/raw/master/_static/\"\n",
    "FILENAME = \"mnist.pkl.gz\"\n",
    "\n",
    "if not (PATH / FILENAME).exists():\n",
    "        content = requests.get(URL + FILENAME).content\n",
    "        (PATH / FILENAME).open(\"wb\").write(content)"
   ]
  },
  {
   "cell_type": "code",
   "execution_count": 9,
   "id": "f71d4d23",
   "metadata": {},
   "outputs": [
    {
     "name": "stdout",
     "output_type": "stream",
     "text": [
      "(50000, 784)\n",
      "(10000, 784)\n"
     ]
    },
    {
     "data": {
      "image/png": "[encoded data removed]",
      "text/plain": [
       "<Figure size 432x288 with 1 Axes>"
      ]
     },
     "metadata": {
      "needs_background": "light"
     },
     "output_type": "display_data"
    }
   ],
   "source": [
    "import pickle\n",
    "import gzip\n",
    "import matplotlib.pyplot as plt\n",
    "import numpy as np\n",
    "\n",
    "with gzip.open((PATH/FILENAME).as_posix(), \"rb\") as f:\n",
    "    ((x_train, y_train), (x_valid, y_valid), _) = pickle.load(f, encoding=\"latin-1\")\n",
    "plt.imshow(x_train[4].reshape((28,28)), cmap=\"gray\")\n",
    "print(x_train.shape)\n",
    "print(x_valid.shape)"
   ]
  },
  {
   "cell_type": "code",
   "execution_count": 15,
   "id": "bcaa6b4b",
   "metadata": {},
   "outputs": [
    {
     "data": {
      "text/plain": [
       "array([5, 0, 4, ..., 8, 4, 8], dtype=int64)"
      ]
     },
     "execution_count": 15,
     "metadata": {},
     "output_type": "execute_result"
    }
   ],
   "source": [
    "import torch\n",
    "\n",
    "x_train_tensor = torch.from_numpy(x_train)\n",
    "y_train_tensor = torch.from_numpy(y_train)\n",
    "x_valid_tensor = torch.from_numpy(x_valid)\n",
    "y_valid_tensor = torch.from_numpy(y_valid)"
   ]
  },
  {
   "cell_type": "code",
   "execution_count": 101,
   "id": "7edc021a",
   "metadata": {},
   "outputs": [
    {
     "name": "stdout",
     "output_type": "stream",
     "text": [
      "tensor(1.1416, grad_fn=<NegBackward>) tensor(0.7344)\n",
      "tensor(0.6729, grad_fn=<NegBackward>) tensor(0.8594)\n"
     ]
    }
   ],
   "source": [
    "# NN from scratch\n",
    "# we initialize weigths with Xavier initialisation by multiplying by 1 / sqrt(n)\n",
    "import math\n",
    "\n",
    "weights = torch.randn(784, 10) / math.sqrt(784)\n",
    "weights.requires_grad_()\n",
    "bias = torch.zeros(10, requires_grad=True)\n",
    "\n",
    "# activation function\n",
    "def log_softmax(x):\n",
    "    return x - x.exp().sum(-1).log().unsqueeze(-1)\n",
    "\n",
    "# 784 (x) neurons and each neuron generate 10 output (y)\n",
    "def model(xb):\n",
    "    return log_softmax(xb @ weights + bias) # @ is dot product\n",
    "\n",
    "# loss function\n",
    "def nll(input, target):\n",
    "    return -input[range(target.shape[0]), target].mean()\n",
    "\n",
    "# for evaluation\n",
    "def accuracy(out, yb):\n",
    "    preds = torch.argmax(out, dim=1)\n",
    "    return (preds == yb).float().mean()\n",
    "\n",
    "loss_func = nll\n",
    "\n",
    "bs = 64  # batch size\n",
    "xb = x_train_tensor[0:bs]  # a mini-batch from x\n",
    "lr = 0.5  # learning rate\n",
    "epochs = 2  # how many epochs to train for\n",
    "\n",
    "for epoch in range(epochs):\n",
    "    for i in range((100 - 1) // bs + 1): # every minibacth\n",
    "        start_i = i * bs\n",
    "        end_i = start_i + bs\n",
    "        xb = x_train_tensor[start_i:end_i] # get mini batch\n",
    "        yb = y_train_tensor[start_i:end_i] # get mini batch\n",
    "        pred = model(xb) # predictions\n",
    "        loss = loss_func(pred, yb)\n",
    "\n",
    "        loss.backward()\n",
    "        with torch.no_grad():\n",
    "            weights -= weights.grad * lr\n",
    "            bias -= bias.grad * lr\n",
    "            weights.grad.zero_()\n",
    "            bias.grad.zero_()\n",
    "    print(loss_func(model(xb), yb), accuracy(model(xb), yb))"
   ]
  },
  {
   "cell_type": "code",
   "execution_count": 104,
   "id": "d788287c",
   "metadata": {},
   "outputs": [
    {
     "name": "stdout",
     "output_type": "stream",
     "text": [
      "tensor(1.0767, grad_fn=<NllLossBackward>) tensor(0.7656)\n",
      "tensor(0.6670, grad_fn=<NllLossBackward>) tensor(0.8281)\n"
     ]
    }
   ],
   "source": [
    "# NN with torch.nn.functional\n",
    "# we initialize weigths with Xavier initialisation by multiplying by 1 / sqrt(n)\n",
    "import math\n",
    "import torch.nn.functional as F\n",
    "\n",
    "weights = torch.randn(784, 10) / math.sqrt(784)\n",
    "weights.requires_grad_()\n",
    "bias = torch.zeros(10, requires_grad=True)\n",
    "\n",
    "# 784 (x) neurons and each neuron generate 10 output (y)\n",
    "def model(xb):\n",
    "    return xb @ weights + bias # @ is dot product\n",
    "\n",
    "# for evaluation\n",
    "def accuracy(out, yb):\n",
    "    preds = torch.argmax(out, dim=1)\n",
    "    return (preds == yb).float().mean()\n",
    "\n",
    "loss_func = F.cross_entropy\n",
    "\n",
    "bs = 64  # batch size\n",
    "xb = x_train_tensor[0:bs]  # a mini-batch from x\n",
    "lr = 0.5  # learning rate\n",
    "epochs = 2  # how many epochs to train for\n",
    "\n",
    "for epoch in range(epochs):\n",
    "    for i in range((100 - 1) // bs + 1): # every minibacth\n",
    "        start_i = i * bs\n",
    "        end_i = start_i + bs\n",
    "        xb = x_train_tensor[start_i:end_i] # get mini batch\n",
    "        yb = y_train_tensor[start_i:end_i] # get mini batch\n",
    "        pred = model(xb) # predictions\n",
    "        loss = loss_func(pred, yb)\n",
    "\n",
    "        loss.backward()\n",
    "        with torch.no_grad():\n",
    "            weights -= weights.grad * lr\n",
    "            bias -= bias.grad * lr\n",
    "            weights.grad.zero_()\n",
    "            bias.grad.zero_()\n",
    "    print(loss_func(model(xb), yb), accuracy(model(xb), yb))"
   ]
  },
  {
   "cell_type": "code",
   "execution_count": 106,
   "id": "2d13854f",
   "metadata": {},
   "outputs": [
    {
     "name": "stdout",
     "output_type": "stream",
     "text": [
      "tensor(1.1003, grad_fn=<NllLossBackward>) tensor(0.6875)\n",
      "tensor(0.6607, grad_fn=<NllLossBackward>) tensor(0.8906)\n"
     ]
    }
   ],
   "source": [
    "# NN with torch.nn.functional and torch.nn.Module\n",
    "# we initialize weigths with Xavier initialisation by multiplying by 1 / sqrt(n)\n",
    "import math\n",
    "import torch.nn.functional as F\n",
    "from torch import nn\n",
    "\n",
    "weights = torch.randn(784, 10) / math.sqrt(784)\n",
    "weights.requires_grad_()\n",
    "bias = torch.zeros(10, requires_grad=True)\n",
    "\n",
    "\n",
    "class Mnist_Logistic(nn.Module):\n",
    "    def __init__(self):\n",
    "        super().__init__()\n",
    "        self.weights = nn.Parameter(torch.randn(784, 10) / math.sqrt(784))\n",
    "        self.bias = nn.Parameter(torch.zeros(10))\n",
    "\n",
    "    def forward(self, xb):\n",
    "        return xb @ self.weights + self.bias\n",
    "\n",
    "model = Mnist_Logistic()\n",
    "\n",
    "# for evaluation\n",
    "def accuracy(out, yb):\n",
    "    preds = torch.argmax(out, dim=1)\n",
    "    return (preds == yb).float().mean()\n",
    "\n",
    "loss_func = F.cross_entropy\n",
    "\n",
    "bs = 64  # batch size\n",
    "xb = x_train_tensor[0:bs]  # a mini-batch from x\n",
    "lr = 0.5  # learning rate\n",
    "epochs = 2  # how many epochs to train for\n",
    "\n",
    "for epoch in range(epochs):\n",
    "    for i in range((100 - 1) // bs + 1): # every minibacth\n",
    "        start_i = i * bs\n",
    "        end_i = start_i + bs\n",
    "        xb = x_train_tensor[start_i:end_i] # get mini batch\n",
    "        yb = y_train_tensor[start_i:end_i] # get mini batch\n",
    "        pred = model(xb) # predictions\n",
    "        loss = loss_func(pred, yb)\n",
    "\n",
    "        loss.backward()\n",
    "        # Notice we dont expose model params anymore!\n",
    "        with torch.no_grad():\n",
    "            for p in model.parameters(): \n",
    "                p -= p.grad * lr\n",
    "            model.zero_grad()\n",
    "    print(loss_func(model(xb), yb), accuracy(model(xb), yb))"
   ]
  },
  {
   "cell_type": "code",
   "execution_count": 108,
   "id": "c6643dbd",
   "metadata": {},
   "outputs": [
    {
     "name": "stdout",
     "output_type": "stream",
     "text": [
      "tensor(1.1207, grad_fn=<NllLossBackward>) tensor(0.6406)\n",
      "tensor(0.6351, grad_fn=<NllLossBackward>) tensor(0.9062)\n"
     ]
    }
   ],
   "source": [
    "# NN with torch.nn.functional and torch.nn.Module and nn.Linear\n",
    "# we initialize weigths with Xavier initialisation by multiplying by 1 / sqrt(n)\n",
    "import math\n",
    "import torch.nn.functional as F\n",
    "from torch import nn\n",
    "\n",
    "weights = torch.randn(784, 10) / math.sqrt(784)\n",
    "weights.requires_grad_()\n",
    "bias = torch.zeros(10, requires_grad=True)\n",
    "\n",
    "\n",
    "class Mnist_Logistic(nn.Module):\n",
    "    def __init__(self):\n",
    "        super().__init__()\n",
    "        self.linear = nn.Linear(784, 10) # Notice we don't expose weights and bias params\n",
    "\n",
    "    def forward(self, xb):\n",
    "        return self.linear(xb)\n",
    "\n",
    "model = Mnist_Logistic()\n",
    "\n",
    "# for evaluation\n",
    "def accuracy(out, yb):\n",
    "    preds = torch.argmax(out, dim=1)\n",
    "    return (preds == yb).float().mean()\n",
    "\n",
    "loss_func = F.cross_entropy\n",
    "\n",
    "bs = 64  # batch size\n",
    "xb = x_train_tensor[0:bs]  # a mini-batch from x\n",
    "lr = 0.5  # learning rate\n",
    "epochs = 2  # how many epochs to train for\n",
    "\n",
    "for epoch in range(epochs):\n",
    "    for i in range((100 - 1) // bs + 1): # every minibacth\n",
    "        start_i = i * bs\n",
    "        end_i = start_i + bs\n",
    "        xb = x_train_tensor[start_i:end_i] # get mini batch\n",
    "        yb = y_train_tensor[start_i:end_i] # get mini batch\n",
    "        pred = model(xb) # predictions\n",
    "        loss = loss_func(pred, yb)\n",
    "\n",
    "        loss.backward()\n",
    "        with torch.no_grad():\n",
    "            for p in model.parameters(): \n",
    "                p -= p.grad * lr\n",
    "            model.zero_grad()\n",
    "    print(loss_func(model(xb), yb), accuracy(model(xb), yb))"
   ]
  },
  {
   "cell_type": "code",
   "execution_count": 111,
   "id": "97deff28",
   "metadata": {},
   "outputs": [
    {
     "name": "stdout",
     "output_type": "stream",
     "text": [
      "tensor(1.1159, grad_fn=<NllLossBackward>) tensor(0.6875)\n",
      "tensor(0.6683, grad_fn=<NllLossBackward>) tensor(0.8594)\n"
     ]
    }
   ],
   "source": [
    "# NN with torch.nn.functional and torch.nn.Module and nn.Linear and optim\n",
    "# we initialize weigths with Xavier initialisation by multiplying by 1 / sqrt(n)\n",
    "import math\n",
    "import torch.nn.functional as F\n",
    "from torch import nn\n",
    "from torch import optim\n",
    "\n",
    "weights = torch.randn(784, 10) / math.sqrt(784)\n",
    "weights.requires_grad_()\n",
    "bias = torch.zeros(10, requires_grad=True)\n",
    "\n",
    "\n",
    "class Mnist_Logistic(nn.Module):\n",
    "    def __init__(self):\n",
    "        super().__init__()\n",
    "        self.linear = nn.Linear(784, 10)\n",
    "\n",
    "    def forward(self, xb):\n",
    "        return self.linear(xb)\n",
    "\n",
    "model = Mnist_Logistic()\n",
    "\n",
    "# for evaluation\n",
    "def accuracy(out, yb):\n",
    "    preds = torch.argmax(out, dim=1)\n",
    "    return (preds == yb).float().mean()\n",
    "\n",
    "loss_func = F.cross_entropy\n",
    "\n",
    "bs = 64  # batch size\n",
    "xb = x_train_tensor[0:bs]  # a mini-batch from x\n",
    "lr = 0.5  # learning rate\n",
    "epochs = 2  # how many epochs to train for\n",
    "opt = optim.SGD(model.parameters(), lr=lr) # optimizer defined here\n",
    "\n",
    "for epoch in range(epochs):\n",
    "    for i in range((100 - 1) // bs + 1): # every minibacth\n",
    "        start_i = i * bs\n",
    "        end_i = start_i + bs\n",
    "        xb = x_train_tensor[start_i:end_i] # get mini batch\n",
    "        yb = y_train_tensor[start_i:end_i] # get mini batch\n",
    "        pred = model(xb) # predictions\n",
    "        loss = loss_func(pred, yb)\n",
    "\n",
    "        loss.backward()\n",
    "        # Notice we don't have to loop over model parameters by hand\n",
    "        opt.step()\n",
    "        opt.zero_grad()\n",
    "    print(loss_func(model(xb), yb), accuracy(model(xb), yb))"
   ]
  },
  {
   "cell_type": "code",
   "execution_count": 112,
   "id": "ca59a056",
   "metadata": {},
   "outputs": [
    {
     "name": "stdout",
     "output_type": "stream",
     "text": [
      "tensor(1.1283, grad_fn=<NllLossBackward>) tensor(0.7031)\n",
      "tensor(0.6430, grad_fn=<NllLossBackward>) tensor(0.9219)\n"
     ]
    }
   ],
   "source": [
    "# Pytorch has abstract class for custom dataset named Dataset. TensorDataset is wrapper for this class.\n",
    "# We can iterate both x and y set same time.\n",
    "import math\n",
    "import torch.nn.functional as F\n",
    "from torch import nn\n",
    "from torch import optim\n",
    "from torch.utils.data import TensorDataset\n",
    "\n",
    "train_ds = TensorDataset(x_train_tensor, y_train_tensor)\n",
    "\n",
    "weights = torch.randn(784, 10) / math.sqrt(784)\n",
    "weights.requires_grad_()\n",
    "bias = torch.zeros(10, requires_grad=True)\n",
    "\n",
    "\n",
    "class Mnist_Logistic(nn.Module):\n",
    "    def __init__(self):\n",
    "        super().__init__()\n",
    "        self.linear = nn.Linear(784, 10)\n",
    "\n",
    "    def forward(self, xb):\n",
    "        return self.linear(xb)\n",
    "\n",
    "model = Mnist_Logistic()\n",
    "\n",
    "# for evaluation\n",
    "def accuracy(out, yb):\n",
    "    preds = torch.argmax(out, dim=1)\n",
    "    return (preds == yb).float().mean()\n",
    "\n",
    "loss_func = F.cross_entropy\n",
    "\n",
    "bs = 64  # batch size\n",
    "xb = x_train_tensor[0:bs]  # a mini-batch from x\n",
    "lr = 0.5  # learning rate\n",
    "epochs = 2  # how many epochs to train for\n",
    "opt = optim.SGD(model.parameters(), lr=lr) # optimizer defined here\n",
    "\n",
    "for epoch in range(epochs):\n",
    "    for i in range((100 - 1) // bs + 1): # every minibacth\n",
    "        xb,yb = train_ds[i*bs : i*bs+bs] # Notice how we iterate\n",
    "        pred = model(xb) # predictions\n",
    "        loss = loss_func(pred, yb)\n",
    "\n",
    "        loss.backward()\n",
    "        # Notice we don't have to loop over model parameters by hand\n",
    "        opt.step()\n",
    "        opt.zero_grad()\n",
    "    print(loss_func(model(xb), yb), accuracy(model(xb), yb))"
   ]
  },
  {
   "cell_type": "code",
   "execution_count": 114,
   "id": "bd5e197e",
   "metadata": {},
   "outputs": [
    {
     "name": "stdout",
     "output_type": "stream",
     "text": [
      "tensor(0.1097, grad_fn=<NllLossBackward>) tensor(1.)\n",
      "tensor(0.0811, grad_fn=<NllLossBackward>) tensor(1.)\n"
     ]
    }
   ],
   "source": [
    "# Pytorch's DataLoader class is responsible for loading mini-batches. With help of this class we can\n",
    "# write much cleaner train loops.\n",
    "\n",
    "import math\n",
    "import torch.nn.functional as F\n",
    "from torch import nn\n",
    "from torch import optim\n",
    "from torch.utils.data import TensorDataset\n",
    "from torch.utils.data import DataLoader\n",
    "\n",
    "weights = torch.randn(784, 10) / math.sqrt(784)\n",
    "weights.requires_grad_()\n",
    "bias = torch.zeros(10, requires_grad=True)\n",
    "\n",
    "\n",
    "class Mnist_Logistic(nn.Module):\n",
    "    def __init__(self):\n",
    "        super().__init__()\n",
    "        self.linear = nn.Linear(784, 10)\n",
    "\n",
    "    def forward(self, xb):\n",
    "        return self.linear(xb)\n",
    "\n",
    "model = Mnist_Logistic()\n",
    "\n",
    "# for evaluation\n",
    "def accuracy(out, yb):\n",
    "    preds = torch.argmax(out, dim=1)\n",
    "    return (preds == yb).float().mean()\n",
    "\n",
    "loss_func = F.cross_entropy\n",
    "\n",
    "bs = 64  # batch size\n",
    "xb = x_train_tensor[0:bs]  # a mini-batch from x\n",
    "lr = 0.5  # learning rate\n",
    "epochs = 2  # how many epochs to train for\n",
    "opt = optim.SGD(model.parameters(), lr=lr) # optimizer defined here\n",
    "train_ds = TensorDataset(x_train_tensor, y_train_tensor) #  Tensor dataset object\n",
    "train_dl = DataLoader(train_ds, batch_size=bs) # DataLoader object\n",
    "\n",
    "# OMG so clean!\n",
    "for epoch in range(epochs):\n",
    "    for xb, yb in train_dl:\n",
    "        pred = model(xb)\n",
    "        loss = loss_func(pred, yb)\n",
    "        loss.backward()\n",
    "        opt.step()\n",
    "        opt.zero_grad()\n",
    "    print(loss_func(model(xb), yb), accuracy(model(xb), yb))"
   ]
  },
  {
   "cell_type": "code",
   "execution_count": 117,
   "id": "8340e68f",
   "metadata": {},
   "outputs": [
    {
     "name": "stdout",
     "output_type": "stream",
     "text": [
      "0 tensor(0.3090)\n",
      "1 tensor(0.2898)\n"
     ]
    }
   ],
   "source": [
    "import math\n",
    "import torch.nn.functional as F\n",
    "from torch import nn\n",
    "from torch import optim\n",
    "from torch.utils.data import TensorDataset\n",
    "from torch.utils.data import DataLoader\n",
    "\n",
    "weights = torch.randn(784, 10) / math.sqrt(784)\n",
    "weights.requires_grad_()\n",
    "bias = torch.zeros(10, requires_grad=True)\n",
    "\n",
    "\n",
    "class Mnist_Logistic(nn.Module):\n",
    "    def __init__(self):\n",
    "        super().__init__()\n",
    "        self.linear = nn.Linear(784, 10)\n",
    "\n",
    "    def forward(self, xb):\n",
    "        return self.linear(xb)\n",
    "\n",
    "model = Mnist_Logistic()\n",
    "\n",
    "# for evaluation\n",
    "def accuracy(out, yb):\n",
    "    preds = torch.argmax(out, dim=1)\n",
    "    return (preds == yb).float().mean()\n",
    "\n",
    "loss_func = F.cross_entropy\n",
    "\n",
    "bs = 64  # batch size\n",
    "xb = x_train_tensor[0:bs]  # a mini-batch from x\n",
    "lr = 0.5  # learning rate\n",
    "epochs = 2  # how many epochs to train for\n",
    "opt = optim.SGD(model.parameters(), lr=lr) # optimizer defined here\n",
    "\n",
    "#  Tensor dataset object we also shuffle the dataset here\n",
    "train_ds = TensorDataset(x_train_tensor, y_train_tensor) \n",
    "train_dl = DataLoader(train_ds, batch_size=bs) # DataLoader object\n",
    "\n",
    "valid_ds = TensorDataset(x_valid_tensor, y_valid_tensor) # No need shuffle for validation set\n",
    "# We can use larger batch size because validation don't need calc back prop so uses less memory.\n",
    "valid_dl = DataLoader(valid_ds, batch_size=bs * 2)\n",
    "\n",
    "# OMG so clean!\n",
    "for epoch in range(epochs):\n",
    "    model.train() # this phases are important while using batchnorm and dropout\n",
    "    for xb, yb in train_dl:\n",
    "        pred = model(xb)\n",
    "        loss = loss_func(pred, yb)\n",
    "        loss.backward()\n",
    "        opt.step()\n",
    "        opt.zero_grad()\n",
    "\n",
    "    model.eval() # this phases are important while using batchnorm and dropout\n",
    "    with torch.no_grad():\n",
    "        valid_loss = sum(loss_func(model(xb), yb) for xb, yb in valid_dl)\n",
    "    print(epoch, valid_loss / len(valid_dl))\n",
    "    #print(loss_func(model(xb), yb), accuracy(model(xb), yb))"
   ]
  },
  {
   "cell_type": "code",
   "execution_count": 110,
   "id": "25136185",
   "metadata": {},
   "outputs": [
    {
     "name": "stdout",
     "output_type": "stream",
     "text": [
      "tensor(1.5711, grad_fn=<NllLossBackward>) tensor(0.8906)\n"
     ]
    }
   ],
   "source": [
    "xb_valid = x_valid_tensor[:64]\n",
    "yb_valid = y_valid_tensor[:64]\n",
    "\n",
    "print(loss_func(model(xb_valid), yb_valid), accuracy(model(xb), yb))"
   ]
  },
  {
   "cell_type": "code",
   "execution_count": 49,
   "id": "52fb37f9",
   "metadata": {},
   "outputs": [
    {
     "data": {
      "text/plain": [
       "torch.Size([64, 784])"
      ]
     },
     "execution_count": 49,
     "metadata": {},
     "output_type": "execute_result"
    }
   ],
   "source": [
    "xb_valid.shape"
   ]
  },
  {
   "cell_type": "code",
   "execution_count": 53,
   "id": "1fdc3489",
   "metadata": {},
   "outputs": [
    {
     "data": {
      "text/plain": [
       "<matplotlib.image.AxesImage at 0x2720b9e6fa0>"
      ]
     },
     "execution_count": 53,
     "metadata": {},
     "output_type": "execute_result"
    },
    {
     "data": {
      "image/png": "[encoded data removed]",
      "text/plain": [
       "<Figure size 432x288 with 1 Axes>"
      ]
     },
     "metadata": {
      "needs_background": "light"
     },
     "output_type": "display_data"
    }
   ],
   "source": [
    "xb_valid[0].reshape(28, 28)\n",
    "plt.imshow(xb_valid[0].reshape(28, 28), cmap=\"gray\")"
   ]
  },
  {
   "cell_type": "code",
   "execution_count": 62,
   "id": "ec40af73",
   "metadata": {},
   "outputs": [
    {
     "data": {
      "text/plain": [
       "tensor([[-2.6155, -0.9929, -1.5386, -2.7747, -3.2980, -3.3874, -3.2308, -3.4792,\n",
       "         -2.1557, -3.8000]], grad_fn=<SubBackward0>)"
      ]
     },
     "execution_count": 62,
     "metadata": {},
     "output_type": "execute_result"
    }
   ],
   "source": [
    "p = model(torch.unsqueeze(xb_valid[0], dim=0))\n",
    "p"
   ]
  },
  {
   "cell_type": "code",
   "execution_count": 91,
   "id": "9805714b",
   "metadata": {},
   "outputs": [],
   "source": [
    "# Using torch.nn.Module\n",
    "\n",
    "from torch import nn\n",
    "from torch import optim\n",
    "\n",
    "class Mnist_Logistic(nn.Module):\n",
    "    def __init__(self):\n",
    "        super().__init__()\n",
    "        self.lin = nn.Linear(784, 10)\n",
    "        \n",
    "    def forward(self, xb):\n",
    "        return self.lin(xb)"
   ]
  },
  {
   "cell_type": "code",
   "execution_count": 92,
   "id": "e77c98ce",
   "metadata": {},
   "outputs": [],
   "source": [
    "model = Mnist_Logistic()\n",
    "opt = optim.SGD(model.parameters(), lr=0.05)"
   ]
  },
  {
   "cell_type": "code",
   "execution_count": 93,
   "id": "f6c32570",
   "metadata": {},
   "outputs": [],
   "source": [
    "for epoch in range(epochs):\n",
    "    for i in range((100-1)//bs+1): # every minibatch\n",
    "        start_i = i * bs\n",
    "        end_i = start_i + bs\n",
    "        xb = x_train_tensor[start_i:end_i]\n",
    "        yb = y_train_tensor[start_i:end_i]\n",
    "        pred = model(xb)\n",
    "        loss = loss_func(pred, yb)\n",
    "        \n",
    "        loss.backward()\n",
    "        opt.step()\n",
    "        opt.zero_grad()"
   ]
  },
  {
   "cell_type": "code",
   "execution_count": 94,
   "id": "92b3a3d6",
   "metadata": {},
   "outputs": [
    {
     "name": "stdout",
     "output_type": "stream",
     "text": [
      "tensor(1.9465, grad_fn=<NllLossBackward>)\n"
     ]
    }
   ],
   "source": [
    "print(loss_func(model(xb), yb))"
   ]
  },
  {
   "cell_type": "code",
   "execution_count": null,
   "id": "3304c9e3",
   "metadata": {},
   "outputs": [],
   "source": [
    "'''\n",
    "with torch.no_grad():\n",
    "    for p in model.parameters():\n",
    "        p -= p.grad * lr\n",
    "        model.zero_grad()\n",
    "this block can supress with follwing lines:\n",
    "opt.step()\n",
    "opt.zero_grad()\n",
    "'''"
   ]
  },
  {
   "cell_type": "code",
   "execution_count": null,
   "id": "46bab070",
   "metadata": {},
   "outputs": [],
   "source": []
  },
  {
   "cell_type": "code",
   "execution_count": null,
   "id": "e775f8e4",
   "metadata": {},
   "outputs": [],
   "source": []
  },
  {
   "cell_type": "code",
   "execution_count": null,
   "id": "a8500d61",
   "metadata": {},
   "outputs": [],
   "source": []
  },
  {
   "cell_type": "code",
   "execution_count": null,
   "id": "8e8bfd92",
   "metadata": {},
   "outputs": [],
   "source": []
  }
 ],
 "metadata": {
  "kernelspec": {
   "display_name": "Python 3 (ipykernel)",
   "language": "python",
   "name": "python3"
  },
  "language_info": {
   "codemirror_mode": {
    "name": "ipython",
    "version": 3
   },
   "file_extension": ".py",
   "mimetype": "text/x-python",
   "name": "python",
   "nbconvert_exporter": "python",
   "pygments_lexer": "ipython3",
   "version": "3.9.5"
  }
 },
 "nbformat": 4,
 "nbformat_minor": 5
}
