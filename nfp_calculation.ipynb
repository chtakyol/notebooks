{
 "cells": [
  {
   "cell_type": "code",
   "execution_count": 143,
   "id": "f96972cf",
   "metadata": {},
   "outputs": [],
   "source": [
    "from shapely.geometry import Polygon, Point, LineString, MultiPolygon\n",
    "from shapely import wkt\n",
    "from shapely.affinity import translate\n",
    "import matplotlib.pyplot as plt\n",
    "import numpy as np"
   ]
  },
  {
   "cell_type": "code",
   "execution_count": 148,
   "id": "e22f35dc",
   "metadata": {},
   "outputs": [
    {
     "data": {
      "image/svg+xml": [
       "<svg xmlns=\"http://www.w3.org/2000/svg\" xmlns:xlink=\"http://www.w3.org/1999/xlink\" width=\"100.0\" height=\"100.0\" viewBox=\"-0.08 -0.08 2.16 2.16\" preserveAspectRatio=\"xMinYMin meet\"><g transform=\"matrix(1,0,0,-1,0,2.0)\"><path fill-rule=\"evenodd\" fill=\"#66cc99\" stroke=\"#555555\" stroke-width=\"0.0432\" opacity=\"0.6\" d=\"M 0.0,0.0 L 2.0,2.0 L 0.0,2.0 L 0.0,0.0 z\" /></g></svg>"
      ],
      "text/plain": [
       "<shapely.geometry.polygon.Polygon at 0x29e39372190>"
      ]
     },
     "execution_count": 148,
     "metadata": {},
     "output_type": "execute_result"
    }
   ],
   "source": [
    "polygonA  = Polygon([[0, 0], [2, 2], [0, 2]])\n",
    "polygonA"
   ]
  },
  {
   "cell_type": "code",
   "execution_count": 193,
   "id": "9ab5c8b1",
   "metadata": {
    "scrolled": true
   },
   "outputs": [
    {
     "data": {
      "image/svg+xml": [
       "<svg xmlns=\"http://www.w3.org/2000/svg\" xmlns:xlink=\"http://www.w3.org/1999/xlink\" width=\"100.0\" height=\"100.0\" viewBox=\"0.88 0.88 3.24 3.24\" preserveAspectRatio=\"xMinYMin meet\"><g transform=\"matrix(1,0,0,-1,0,5.0)\"><path fill-rule=\"evenodd\" fill=\"#66cc99\" stroke=\"#555555\" stroke-width=\"0.06480000000000001\" opacity=\"0.6\" d=\"M 3.0,1.0 L 4.0,4.0 L 2.0,4.0 L 1.0,2.0 L 3.0,1.0 z\" /></g></svg>"
      ],
      "text/plain": [
       "<shapely.geometry.polygon.Polygon at 0x29e39409310>"
      ]
     },
     "execution_count": 193,
     "metadata": {},
     "output_type": "execute_result"
    }
   ],
   "source": [
    "polygonB = Polygon([[3, 1], [4, 4], [2, 4], [1, 2], [3,1]])\n",
    "polygonB"
   ]
  },
  {
   "cell_type": "code",
   "execution_count": 189,
   "id": "87b6e76b",
   "metadata": {},
   "outputs": [],
   "source": [
    "polygonA = translate(polygonA, 3)"
   ]
  },
  {
   "cell_type": "code",
   "execution_count": 190,
   "id": "8393b149",
   "metadata": {},
   "outputs": [
    {
     "data": {
      "text/plain": [
       "array([3., 2.])"
      ]
     },
     "execution_count": 190,
     "metadata": {},
     "output_type": "execute_result"
    }
   ],
   "source": [
    "c = np.asarray(polygonA.exterior.coords)\n",
    "c[2]"
   ]
  },
  {
   "cell_type": "code",
   "execution_count": 191,
   "id": "300141c3",
   "metadata": {},
   "outputs": [
    {
     "data": {
      "text/plain": [
       "array([[3., 1.],\n",
       "       [4., 4.],\n",
       "       [2., 4.],\n",
       "       [1., 2.],\n",
       "       [2., 2.],\n",
       "       [3., 1.]])"
      ]
     },
     "execution_count": 191,
     "metadata": {},
     "output_type": "execute_result"
    }
   ],
   "source": [
    "c2 = np.asarray(polygonB.exterior.coords)\n",
    "c2"
   ]
  },
  {
   "cell_type": "code",
   "execution_count": 195,
   "id": "65725c00",
   "metadata": {},
   "outputs": [],
   "source": [
    "def calculate_nfp(_polygonA, _polygonB):\n",
    "    proposed_polygones = []\n",
    "    \n",
    "    coordsA = np.asarray(_polygonA.exterior.coords)\n",
    "    selected_vertex = coordsA[1]\n",
    "\n",
    "    coordsB = np.asarray(_polygonB.exterior.coords)\n",
    "    for coord in coordsB:\n",
    "        translate_vector = coord - selected_vertex\n",
    "        target_polygon = translate(_polygonA, xoff=translate_vector[0], yoff=translate_vector[1])\n",
    "        proposed_polygones.append(target_polygon)\n",
    "    return proposed_polygones"
   ]
  },
  {
   "cell_type": "code",
   "execution_count": 196,
   "id": "964e0581",
   "metadata": {},
   "outputs": [
    {
     "data": {
      "image/png": "[encoded data removed]",
      "text/plain": [
       "<Figure size 432x288 with 1 Axes>"
      ]
     },
     "metadata": {
      "needs_background": "light"
     },
     "output_type": "display_data"
    }
   ],
   "source": [
    "a = calculate_nfp(polygonA, polygonB)\n",
    "a.append(polygonB)\n",
    "plot(a)"
   ]
  },
  {
   "cell_type": "code",
   "execution_count": 186,
   "id": "01438850",
   "metadata": {},
   "outputs": [],
   "source": [
    "def plot(_polygons):\n",
    "    fig, axs = plt.subplots()\n",
    "    plt.xlim(-3, 7)\n",
    "    plt.ylim(-3, 7)\n",
    "    axs.set_aspect(\"equal\")\n",
    "    \n",
    "    for polygon in _polygons:\n",
    "        xs, ys = polygon.exterior.xy\n",
    "        axs.fill(xs, ys, alpha=0.5, fc=\"r\", ec=\"none\")\n",
    "        \n",
    "    plt.show()"
   ]
  },
  {
   "cell_type": "code",
   "execution_count": 147,
   "id": "d43850d9",
   "metadata": {},
   "outputs": [
    {
     "data": {
      "image/png": "[encoded data removed]",
      "text/plain": [
       "<Figure size 432x288 with 1 Axes>"
      ]
     },
     "metadata": {
      "needs_background": "light"
     },
     "output_type": "display_data"
    }
   ],
   "source": [
    "plot([polygonA, polygonB])"
   ]
  }
 ],
 "metadata": {
  "kernelspec": {
   "display_name": "Python 3 (ipykernel)",
   "language": "python",
   "name": "python3"
  },
  "language_info": {
   "codemirror_mode": {
    "name": "ipython",
    "version": 3
   },
   "file_extension": ".py",
   "mimetype": "text/x-python",
   "name": "python",
   "nbconvert_exporter": "python",
   "pygments_lexer": "ipython3",
   "version": "3.9.5"
  }
 },
 "nbformat": 4,
 "nbformat_minor": 5
}
